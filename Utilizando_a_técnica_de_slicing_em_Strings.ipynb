{
  "nbformat": 4,
  "nbformat_minor": 0,
  "metadata": {
    "colab": {
      "provenance": [],
      "include_colab_link": true
    },
    "kernelspec": {
      "name": "python3",
      "display_name": "Python 3"
    },
    "language_info": {
      "name": "python"
    }
  },
  "cells": [
    {
      "cell_type": "markdown",
      "metadata": {
        "id": "view-in-github",
        "colab_type": "text"
      },
      "source": [
        "<a href=\"https://colab.research.google.com/github/sophiafilha5238/Python/blob/main/Utilizando_a_t%C3%A9cnica_de_slicing_em_Strings.ipynb\" target=\"_parent\"><img src=\"https://colab.research.google.com/assets/colab-badge.svg\" alt=\"Open In Colab\"/></a>"
      ]
    },
    {
      "cell_type": "markdown",
      "source": [
        "# Slicing (fatiamento)\n",
        "\n",
        "A técnica de fatiamento nos permite acessar partes de uma string utilizando a notação de índice.\n",
        "\n"
      ],
      "metadata": {
        "id": "dO8sk6d0Sbrk"
      }
    },
    {
      "cell_type": "markdown",
      "source": [
        "## Acessando o índice"
      ],
      "metadata": {
        "id": "Gi5T1DjSS2a_"
      }
    },
    {
      "cell_type": "code",
      "source": [
        "frase = 'Meu nome é Vinicius e eu estou estudando Python.'"
      ],
      "metadata": {
        "id": "DXXlyMrzTXDx"
      },
      "execution_count": null,
      "outputs": []
    },
    {
      "cell_type": "code",
      "source": [
        "frase[0]"
      ],
      "metadata": {
        "colab": {
          "base_uri": "https://localhost:8080/",
          "height": 35
        },
        "id": "QSaf6RExVfkk",
        "outputId": "6b28bb69-0021-48ea-dc71-9be58cbad096"
      },
      "execution_count": null,
      "outputs": [
        {
          "output_type": "execute_result",
          "data": {
            "application/vnd.google.colaboratory.intrinsic+json": {
              "type": "string"
            },
            "text/plain": [
              "'M'"
            ]
          },
          "metadata": {},
          "execution_count": 18
        }
      ]
    },
    {
      "cell_type": "code",
      "source": [
        "frase[11]"
      ],
      "metadata": {
        "colab": {
          "base_uri": "https://localhost:8080/",
          "height": 35
        },
        "id": "iN17lF-NVmlM",
        "outputId": "2aeacfe8-8f00-4cd6-a44d-12daa172207e"
      },
      "execution_count": null,
      "outputs": [
        {
          "output_type": "execute_result",
          "data": {
            "application/vnd.google.colaboratory.intrinsic+json": {
              "type": "string"
            },
            "text/plain": [
              "'V'"
            ]
          },
          "metadata": {},
          "execution_count": 19
        }
      ]
    },
    {
      "cell_type": "markdown",
      "source": [
        "## Notação de dois pontos"
      ],
      "metadata": {
        "id": "gSeub8odTYVK"
      }
    },
    {
      "cell_type": "code",
      "source": [
        "frase[0:3]"
      ],
      "metadata": {
        "colab": {
          "base_uri": "https://localhost:8080/",
          "height": 35
        },
        "id": "1xowE3zgTb3H",
        "outputId": "a38b0f76-8d72-4a8f-d633-db44e0e3e8b6"
      },
      "execution_count": null,
      "outputs": [
        {
          "output_type": "execute_result",
          "data": {
            "application/vnd.google.colaboratory.intrinsic+json": {
              "type": "string"
            },
            "text/plain": [
              "'Meu'"
            ]
          },
          "metadata": {},
          "execution_count": 22
        }
      ]
    },
    {
      "cell_type": "code",
      "source": [
        "frase[11:19]"
      ],
      "metadata": {
        "colab": {
          "base_uri": "https://localhost:8080/",
          "height": 35
        },
        "id": "uU591dkCWFKT",
        "outputId": "2b383410-1f58-4c77-f1d1-8afd178aa075"
      },
      "execution_count": null,
      "outputs": [
        {
          "output_type": "execute_result",
          "data": {
            "application/vnd.google.colaboratory.intrinsic+json": {
              "type": "string"
            },
            "text/plain": [
              "'Vinicius'"
            ]
          },
          "metadata": {},
          "execution_count": 23
        }
      ]
    },
    {
      "cell_type": "code",
      "source": [
        "frase[11:]"
      ],
      "metadata": {
        "colab": {
          "base_uri": "https://localhost:8080/",
          "height": 35
        },
        "id": "Ce9a7E8GWM4F",
        "outputId": "7d716e5c-a6ae-47f2-8148-aa5f8674bbcb"
      },
      "execution_count": null,
      "outputs": [
        {
          "output_type": "execute_result",
          "data": {
            "application/vnd.google.colaboratory.intrinsic+json": {
              "type": "string"
            },
            "text/plain": [
              "'Vinicius e eu estou estudando Python.'"
            ]
          },
          "metadata": {},
          "execution_count": 25
        }
      ]
    },
    {
      "cell_type": "code",
      "source": [
        "frase[:]"
      ],
      "metadata": {
        "colab": {
          "base_uri": "https://localhost:8080/",
          "height": 35
        },
        "id": "4CgT9SmiWV10",
        "outputId": "94128e29-955f-4e95-d674-92b63d093038"
      },
      "execution_count": null,
      "outputs": [
        {
          "output_type": "execute_result",
          "data": {
            "application/vnd.google.colaboratory.intrinsic+json": {
              "type": "string"
            },
            "text/plain": [
              "'Meu nome é Vinicius e eu estou estudando Python.'"
            ]
          },
          "metadata": {},
          "execution_count": 26
        }
      ]
    },
    {
      "cell_type": "code",
      "source": [
        "print(frase)"
      ],
      "metadata": {
        "colab": {
          "base_uri": "https://localhost:8080/"
        },
        "id": "u42usm0xWcJL",
        "outputId": "0b2521bd-d199-405d-ecfe-e8e27161829e"
      },
      "execution_count": null,
      "outputs": [
        {
          "output_type": "stream",
          "name": "stdout",
          "text": [
            "Meu nome é Vinicius e eu estou estudando Python.\n"
          ]
        }
      ]
    },
    {
      "cell_type": "code",
      "source": [
        "frase[-7:]"
      ],
      "metadata": {
        "colab": {
          "base_uri": "https://localhost:8080/",
          "height": 35
        },
        "id": "Zg1yRzIsWibZ",
        "outputId": "b5b3a23f-19d1-4980-f66f-ef8ada2bc057"
      },
      "execution_count": null,
      "outputs": [
        {
          "output_type": "execute_result",
          "data": {
            "application/vnd.google.colaboratory.intrinsic+json": {
              "type": "string"
            },
            "text/plain": [
              "'Python.'"
            ]
          },
          "metadata": {},
          "execution_count": 31
        }
      ]
    },
    {
      "cell_type": "markdown",
      "source": [
        "## Steps (passos)"
      ],
      "metadata": {
        "id": "L2U21PwVTcKh"
      }
    },
    {
      "cell_type": "code",
      "source": [
        "print(frase)"
      ],
      "metadata": {
        "colab": {
          "base_uri": "https://localhost:8080/"
        },
        "id": "1LKEg_PvVHvP",
        "outputId": "a0080009-d690-4efe-fe5f-91e310cf17bd"
      },
      "execution_count": null,
      "outputs": [
        {
          "output_type": "stream",
          "name": "stdout",
          "text": [
            "Meu nome é Vinicius e eu estou estudando Python.\n"
          ]
        }
      ]
    },
    {
      "cell_type": "code",
      "source": [
        "frase[0:19:4]"
      ],
      "metadata": {
        "colab": {
          "base_uri": "https://localhost:8080/",
          "height": 35
        },
        "id": "MEuhe0atW5qs",
        "outputId": "cfe5dce2-980c-46e2-808f-cc90ab1ba8a1"
      },
      "execution_count": null,
      "outputs": [
        {
          "output_type": "execute_result",
          "data": {
            "application/vnd.google.colaboratory.intrinsic+json": {
              "type": "string"
            },
            "text/plain": [
              "'Mn ii'"
            ]
          },
          "metadata": {},
          "execution_count": 38
        }
      ]
    },
    {
      "cell_type": "markdown",
      "source": [
        "## Invertendo uma string com slicing"
      ],
      "metadata": {
        "id": "B7fwjIPAW-EX"
      }
    },
    {
      "cell_type": "code",
      "source": [
        "frase[::-1]"
      ],
      "metadata": {
        "colab": {
          "base_uri": "https://localhost:8080/",
          "height": 35
        },
        "id": "GojXvSDFXVQA",
        "outputId": "25ea3c9c-7143-48b8-f758-ad70fe1def6b"
      },
      "execution_count": null,
      "outputs": [
        {
          "output_type": "execute_result",
          "data": {
            "application/vnd.google.colaboratory.intrinsic+json": {
              "type": "string"
            },
            "text/plain": [
              "'.nohtyP odnadutse uotse ue e suiciniV é emon ueM'"
            ]
          },
          "metadata": {},
          "execution_count": 40
        }
      ]
    },
    {
      "cell_type": "code",
      "source": [],
      "metadata": {
        "id": "uLuWh7KMXd63"
      },
      "execution_count": null,
      "outputs": []
    }
  ]
}