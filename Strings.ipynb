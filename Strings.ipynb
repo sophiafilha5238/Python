{
  "nbformat": 4,
  "nbformat_minor": 0,
  "metadata": {
    "colab": {
      "provenance": [],
      "include_colab_link": true
    },
    "kernelspec": {
      "name": "python3",
      "display_name": "Python 3"
    },
    "language_info": {
      "name": "python"
    }
  },
  "cells": [
    {
      "cell_type": "markdown",
      "metadata": {
        "id": "view-in-github",
        "colab_type": "text"
      },
      "source": [
        "<a href=\"https://colab.research.google.com/github/sophiafilha5238/Python/blob/main/Strings.ipynb\" target=\"_parent\"><img src=\"https://colab.research.google.com/assets/colab-badge.svg\" alt=\"Open In Colab\"/></a>"
      ]
    },
    {
      "cell_type": "markdown",
      "source": [
        "# Strings\n",
        "\n",
        "O tipo String é usado principalmente para armazenar informações de texto, como o nome de uma pessoa, a marca de um carro ou um endereço. Nele temos uma sequência de caracteres que formam um texto. O Python permite formar strings com um par de aspas simples ou duplas."
      ],
      "metadata": {
        "id": "aSUeTudrjcGe"
      }
    },
    {
      "cell_type": "markdown",
      "source": [
        "## String são case sensitive"
      ],
      "metadata": {
        "id": "341Bttv_jt_w"
      }
    },
    {
      "cell_type": "code",
      "source": [
        "'Vinicius' == 'vinicius'"
      ],
      "metadata": {
        "colab": {
          "base_uri": "https://localhost:8080/"
        },
        "id": "KUFocX4zkw13",
        "outputId": "b01a3b28-1f58-4a9d-890d-8808f835c2d1"
      },
      "execution_count": null,
      "outputs": [
        {
          "output_type": "execute_result",
          "data": {
            "text/plain": [
              "False"
            ]
          },
          "metadata": {},
          "execution_count": 7
        }
      ]
    },
    {
      "cell_type": "code",
      "source": [
        "'python' == 'pyThon'"
      ],
      "metadata": {
        "colab": {
          "base_uri": "https://localhost:8080/"
        },
        "id": "GlEwE6Gplgz7",
        "outputId": "7eb3c83b-3d5a-472b-cbc2-5fc72f76c4f4"
      },
      "execution_count": null,
      "outputs": [
        {
          "output_type": "execute_result",
          "data": {
            "text/plain": [
              "False"
            ]
          },
          "metadata": {},
          "execution_count": 8
        }
      ]
    },
    {
      "cell_type": "code",
      "source": [
        "\"python\" == \"python\""
      ],
      "metadata": {
        "colab": {
          "base_uri": "https://localhost:8080/"
        },
        "id": "LXzEHwVGlmab",
        "outputId": "28085de5-4b4b-4b58-d6be-655e0e9e59b2"
      },
      "execution_count": null,
      "outputs": [
        {
          "output_type": "execute_result",
          "data": {
            "text/plain": [
              "True"
            ]
          },
          "metadata": {},
          "execution_count": 9
        }
      ]
    },
    {
      "cell_type": "markdown",
      "source": [
        "## Podemos concatenar strings com o operador aritmético de adição"
      ],
      "metadata": {
        "id": "OV9A0rMQkxPd"
      }
    },
    {
      "cell_type": "code",
      "source": [
        "nome = 'Vinicius'\n",
        "sobrenome = 'Rocha'"
      ],
      "metadata": {
        "id": "7Rn6bfktk8UL"
      },
      "execution_count": null,
      "outputs": []
    },
    {
      "cell_type": "code",
      "source": [
        "print(nome, sobrenome)"
      ],
      "metadata": {
        "colab": {
          "base_uri": "https://localhost:8080/"
        },
        "id": "RjSFR3DUl0ji",
        "outputId": "83f2ed8a-db07-44e6-f60b-486fc17269e3"
      },
      "execution_count": null,
      "outputs": [
        {
          "output_type": "stream",
          "name": "stdout",
          "text": [
            "Vinicius Rocha\n"
          ]
        }
      ]
    },
    {
      "cell_type": "code",
      "source": [
        "print(nome + sobrenome)"
      ],
      "metadata": {
        "colab": {
          "base_uri": "https://localhost:8080/"
        },
        "id": "3z8jYQjkl5nc",
        "outputId": "492ec705-3b28-4ded-f801-f9fd58bd4b53"
      },
      "execution_count": null,
      "outputs": [
        {
          "output_type": "stream",
          "name": "stdout",
          "text": [
            "ViniciusRocha\n"
          ]
        }
      ]
    },
    {
      "cell_type": "code",
      "source": [
        "'a' + 'b' + 'c' + 'd'"
      ],
      "metadata": {
        "colab": {
          "base_uri": "https://localhost:8080/",
          "height": 35
        },
        "id": "050pOfZMmA3j",
        "outputId": "18dc155b-6e15-4f91-89d2-fee87af4f6d8"
      },
      "execution_count": null,
      "outputs": [
        {
          "output_type": "execute_result",
          "data": {
            "application/vnd.google.colaboratory.intrinsic+json": {
              "type": "string"
            },
            "text/plain": [
              "'abcd'"
            ]
          },
          "metadata": {},
          "execution_count": 14
        }
      ]
    },
    {
      "cell_type": "markdown",
      "source": [
        "## String são objetos iteráveis"
      ],
      "metadata": {
        "id": "O1gkkdgqk8ta"
      }
    },
    {
      "cell_type": "code",
      "source": [
        "print(nome)"
      ],
      "metadata": {
        "colab": {
          "base_uri": "https://localhost:8080/"
        },
        "id": "NQLtCwKDk_fh",
        "outputId": "6b328c2b-7f89-40bf-bafa-3d1681c3acc5"
      },
      "execution_count": null,
      "outputs": [
        {
          "output_type": "stream",
          "name": "stdout",
          "text": [
            "Vinicius\n"
          ]
        }
      ]
    },
    {
      "cell_type": "code",
      "source": [
        "nome[0]"
      ],
      "metadata": {
        "colab": {
          "base_uri": "https://localhost:8080/",
          "height": 35
        },
        "id": "DYctIcAFmODJ",
        "outputId": "d3d14b8d-024a-42c2-8098-a1b9e43e7f88"
      },
      "execution_count": null,
      "outputs": [
        {
          "output_type": "execute_result",
          "data": {
            "application/vnd.google.colaboratory.intrinsic+json": {
              "type": "string"
            },
            "text/plain": [
              "'V'"
            ]
          },
          "metadata": {},
          "execution_count": 16
        }
      ]
    },
    {
      "cell_type": "code",
      "source": [
        "nome[1]"
      ],
      "metadata": {
        "colab": {
          "base_uri": "https://localhost:8080/",
          "height": 35
        },
        "id": "rAtBj5oHmgjl",
        "outputId": "80455747-f914-4ceb-a0a4-f3c3ab744241"
      },
      "execution_count": null,
      "outputs": [
        {
          "output_type": "execute_result",
          "data": {
            "application/vnd.google.colaboratory.intrinsic+json": {
              "type": "string"
            },
            "text/plain": [
              "'i'"
            ]
          },
          "metadata": {},
          "execution_count": 17
        }
      ]
    },
    {
      "cell_type": "code",
      "source": [
        "nome[4]"
      ],
      "metadata": {
        "colab": {
          "base_uri": "https://localhost:8080/",
          "height": 35
        },
        "id": "8Xuf4bO_mipl",
        "outputId": "83c26a5b-fdb8-4662-b4f1-f1835a9a45e7"
      },
      "execution_count": null,
      "outputs": [
        {
          "output_type": "execute_result",
          "data": {
            "application/vnd.google.colaboratory.intrinsic+json": {
              "type": "string"
            },
            "text/plain": [
              "'c'"
            ]
          },
          "metadata": {},
          "execution_count": 18
        }
      ]
    },
    {
      "cell_type": "code",
      "source": [
        "nome[-1]"
      ],
      "metadata": {
        "colab": {
          "base_uri": "https://localhost:8080/",
          "height": 35
        },
        "id": "uCCylc5QmlRh",
        "outputId": "eccab3c8-2b31-4722-9b7b-0a1dd8756862"
      },
      "execution_count": null,
      "outputs": [
        {
          "output_type": "execute_result",
          "data": {
            "application/vnd.google.colaboratory.intrinsic+json": {
              "type": "string"
            },
            "text/plain": [
              "'s'"
            ]
          },
          "metadata": {},
          "execution_count": 20
        }
      ]
    },
    {
      "cell_type": "code",
      "source": [
        "nome[-2]"
      ],
      "metadata": {
        "id": "m93rteBTmqkY",
        "outputId": "f28cb7c7-e3d0-4fa7-c155-48f569cc9b18",
        "colab": {
          "base_uri": "https://localhost:8080/",
          "height": 35
        }
      },
      "execution_count": null,
      "outputs": [
        {
          "output_type": "execute_result",
          "data": {
            "application/vnd.google.colaboratory.intrinsic+json": {
              "type": "string"
            },
            "text/plain": [
              "'u'"
            ]
          },
          "metadata": {},
          "execution_count": 21
        }
      ]
    },
    {
      "cell_type": "code",
      "source": [],
      "metadata": {
        "id": "Ine6hnI2mvc2"
      },
      "execution_count": null,
      "outputs": []
    }
  ]
}