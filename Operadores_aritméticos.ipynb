{
  "nbformat": 4,
  "nbformat_minor": 0,
  "metadata": {
    "colab": {
      "provenance": [],
      "include_colab_link": true
    },
    "kernelspec": {
      "name": "python3",
      "display_name": "Python 3"
    },
    "language_info": {
      "name": "python"
    }
  },
  "cells": [
    {
      "cell_type": "markdown",
      "metadata": {
        "id": "view-in-github",
        "colab_type": "text"
      },
      "source": [
        "<a href=\"https://colab.research.google.com/github/sophiafilha5238/Python/blob/main/Operadores_aritm%C3%A9ticos.ipynb\" target=\"_parent\"><img src=\"https://colab.research.google.com/assets/colab-badge.svg\" alt=\"Open In Colab\"/></a>"
      ]
    },
    {
      "cell_type": "markdown",
      "source": [
        "# Operadores aritméticos\n",
        "\n",
        "Todo mundo já usou operadores aritméticos na escola! Nos primeiros anos de estudo aprendemos a fazer continhas de soma, subtração, multiplicação e divisão.\n",
        "\n",
        "No Python também temos esses operadores e podemos realizar todos esses cálculos!\n",
        "\n"
      ],
      "metadata": {
        "id": "UpWaCgau_zOx"
      }
    },
    {
      "cell_type": "markdown",
      "source": [
        "## Adição"
      ],
      "metadata": {
        "id": "H4XvbWmWAPyO"
      }
    },
    {
      "cell_type": "code",
      "source": [
        "print(10 + 20)\n",
        "print(30 + 40)\n",
        "print(10 + 70 + 90 + 1100 + 10000)"
      ],
      "metadata": {
        "id": "uahJqGHlBmQM",
        "colab": {
          "base_uri": "https://localhost:8080/"
        },
        "outputId": "55d2c02c-d026-4138-f121-967bf6952ba7"
      },
      "execution_count": null,
      "outputs": [
        {
          "output_type": "stream",
          "name": "stdout",
          "text": [
            "30\n",
            "70\n",
            "11270\n"
          ]
        }
      ]
    },
    {
      "cell_type": "markdown",
      "source": [
        "## Subtração"
      ],
      "metadata": {
        "id": "h9-uw2K9Bm2P"
      }
    },
    {
      "cell_type": "code",
      "source": [
        "print(123 - 87)\n",
        "print(67 - 198)\n",
        "print(34 - 8 - 78 - 90 - 167)"
      ],
      "metadata": {
        "id": "_uSZTwN3BpvG",
        "colab": {
          "base_uri": "https://localhost:8080/"
        },
        "outputId": "4b2fe3d3-8d39-4bcf-d4c2-d0fa9a4e4369"
      },
      "execution_count": null,
      "outputs": [
        {
          "output_type": "stream",
          "name": "stdout",
          "text": [
            "36\n",
            "-131\n",
            "-309\n"
          ]
        }
      ]
    },
    {
      "cell_type": "markdown",
      "source": [
        "## Multiplicação"
      ],
      "metadata": {
        "id": "7ODm6K8bBqLH"
      }
    },
    {
      "cell_type": "code",
      "source": [
        "print( 10 * 8)"
      ],
      "metadata": {
        "id": "0-Jz2qn6Bv9z",
        "colab": {
          "base_uri": "https://localhost:8080/"
        },
        "outputId": "f66a21c2-266b-4395-d55f-7d8c3145bef7"
      },
      "execution_count": null,
      "outputs": [
        {
          "output_type": "stream",
          "name": "stdout",
          "text": [
            "80\n"
          ]
        }
      ]
    },
    {
      "cell_type": "code",
      "source": [
        "print( 12 * 3 * 5)"
      ],
      "metadata": {
        "colab": {
          "base_uri": "https://localhost:8080/"
        },
        "id": "GMFjCHZ4fZb9",
        "outputId": "bbda781b-4596-4e8c-84f3-7a6a2643cd00"
      },
      "execution_count": null,
      "outputs": [
        {
          "output_type": "stream",
          "name": "stdout",
          "text": [
            "180\n"
          ]
        }
      ]
    },
    {
      "cell_type": "markdown",
      "source": [
        "## Divisão"
      ],
      "metadata": {
        "id": "nsztzi3jBxyo"
      }
    },
    {
      "cell_type": "code",
      "source": [
        "print( 100 / 10 )\n",
        "print( 129 / 23)"
      ],
      "metadata": {
        "id": "11SKwABbB3B-",
        "colab": {
          "base_uri": "https://localhost:8080/"
        },
        "outputId": "7462b490-d800-4e7a-8c3c-70b90ba5399b"
      },
      "execution_count": null,
      "outputs": [
        {
          "output_type": "stream",
          "name": "stdout",
          "text": [
            "10.0\n",
            "5.608695652173913\n"
          ]
        }
      ]
    },
    {
      "cell_type": "markdown",
      "source": [
        "### Divisão com resultado inteiro"
      ],
      "metadata": {
        "id": "W8jXxZ8YB3fO"
      }
    },
    {
      "cell_type": "code",
      "source": [
        "print( 129 // 23)"
      ],
      "metadata": {
        "id": "qW8adDzaB69g",
        "colab": {
          "base_uri": "https://localhost:8080/"
        },
        "outputId": "12d43a7a-3648-4b23-bae6-e1626b15ce86"
      },
      "execution_count": null,
      "outputs": [
        {
          "output_type": "stream",
          "name": "stdout",
          "text": [
            "5\n"
          ]
        }
      ]
    },
    {
      "cell_type": "code",
      "source": [
        "print( 1345 // 57)"
      ],
      "metadata": {
        "colab": {
          "base_uri": "https://localhost:8080/"
        },
        "id": "0KAXt83WgNZU",
        "outputId": "aa4ec54f-96a2-459a-9c88-a5807c988574"
      },
      "execution_count": null,
      "outputs": [
        {
          "output_type": "stream",
          "name": "stdout",
          "text": [
            "23\n"
          ]
        }
      ]
    },
    {
      "cell_type": "markdown",
      "source": [
        "### Módulo"
      ],
      "metadata": {
        "id": "GvS1TffWB7UG"
      }
    },
    {
      "cell_type": "code",
      "source": [
        "print(129 % 23)"
      ],
      "metadata": {
        "id": "Z_rQvIQiB-FX",
        "colab": {
          "base_uri": "https://localhost:8080/"
        },
        "outputId": "40c22be7-bfe0-49e9-d62b-b6a623a7d899"
      },
      "execution_count": null,
      "outputs": [
        {
          "output_type": "stream",
          "name": "stdout",
          "text": [
            "14\n"
          ]
        }
      ]
    },
    {
      "cell_type": "code",
      "source": [
        "print( 10 % 3)"
      ],
      "metadata": {
        "colab": {
          "base_uri": "https://localhost:8080/"
        },
        "id": "3TH9E2RZgoqe",
        "outputId": "a5367a77-7653-4e61-f493-ba7082ed568c"
      },
      "execution_count": null,
      "outputs": [
        {
          "output_type": "stream",
          "name": "stdout",
          "text": [
            "1\n"
          ]
        }
      ]
    },
    {
      "cell_type": "markdown",
      "source": [
        "## Exponenciação"
      ],
      "metadata": {
        "id": "JIwN3RALCAR3"
      }
    },
    {
      "cell_type": "code",
      "source": [
        "print( 10 ** 2)\n",
        "print( 10 ** 4)\n",
        "print( 3 ** 3)"
      ],
      "metadata": {
        "id": "fuSKpk0NCDtR",
        "colab": {
          "base_uri": "https://localhost:8080/"
        },
        "outputId": "d359a38a-cc1a-47c3-8e55-803f5e63c57a"
      },
      "execution_count": null,
      "outputs": [
        {
          "output_type": "stream",
          "name": "stdout",
          "text": [
            "100\n",
            "10000\n",
            "27\n"
          ]
        }
      ]
    },
    {
      "cell_type": "markdown",
      "source": [
        "# Precedência\n",
        "\n",
        "\n",
        "\n",
        "1. Parêntesis\n",
        "2. Expoentes\n",
        "3. Multiplicações e divisões (da esquerda para a direita)\n",
        "4. Somas e subtrações\n",
        "\n"
      ],
      "metadata": {
        "id": "0KD_9sQ7CFdc"
      }
    },
    {
      "cell_type": "code",
      "source": [
        "(10 + 2) * 10"
      ],
      "metadata": {
        "id": "BXC2yGvYCI6f",
        "colab": {
          "base_uri": "https://localhost:8080/"
        },
        "outputId": "d8d6c931-7b1e-46c5-aa09-670984776463"
      },
      "execution_count": null,
      "outputs": [
        {
          "output_type": "execute_result",
          "data": {
            "text/plain": [
              "120"
            ]
          },
          "metadata": {},
          "execution_count": 29
        }
      ]
    },
    {
      "cell_type": "code",
      "source": [
        "print(  (12 + 3 - 1) * 50 / 3  )"
      ],
      "metadata": {
        "colab": {
          "base_uri": "https://localhost:8080/"
        },
        "id": "ks4RUhcUhdjc",
        "outputId": "a6d8f38d-22d8-40e0-caab-be088be40fe4"
      },
      "execution_count": null,
      "outputs": [
        {
          "output_type": "stream",
          "name": "stdout",
          "text": [
            "233.33333333333334\n"
          ]
        }
      ]
    },
    {
      "cell_type": "code",
      "source": [],
      "metadata": {
        "id": "G_GQmm_hiLbR"
      },
      "execution_count": null,
      "outputs": []
    }
  ]
}