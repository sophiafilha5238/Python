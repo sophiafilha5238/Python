{
  "nbformat": 4,
  "nbformat_minor": 0,
  "metadata": {
    "colab": {
      "provenance": [],
      "include_colab_link": true
    },
    "kernelspec": {
      "name": "python3",
      "display_name": "Python 3"
    },
    "language_info": {
      "name": "python"
    }
  },
  "cells": [
    {
      "cell_type": "markdown",
      "metadata": {
        "id": "view-in-github",
        "colab_type": "text"
      },
      "source": [
        "<a href=\"https://colab.research.google.com/github/sophiafilha5238/Python/blob/main/M%C3%A9todos_para_manipula%C3%A7%C3%A3o_de_strings.ipynb\" target=\"_parent\"><img src=\"https://colab.research.google.com/assets/colab-badge.svg\" alt=\"Open In Colab\"/></a>"
      ]
    },
    {
      "cell_type": "markdown",
      "source": [
        "# Métodos do tipo String"
      ],
      "metadata": {
        "id": "hSwXFgXTvxFE"
      }
    },
    {
      "cell_type": "markdown",
      "source": [
        "## split()\n",
        "\n",
        "Divide uma string, convertendo-a em uma lista."
      ],
      "metadata": {
        "id": "lZmLrHQCvyL9"
      }
    },
    {
      "cell_type": "code",
      "source": [
        "frase = 'Meu nome é Vinicius. Eu estou estudando a linguagem Python!'"
      ],
      "metadata": {
        "id": "TuT3Nwadv-_l"
      },
      "execution_count": null,
      "outputs": []
    },
    {
      "cell_type": "code",
      "source": [
        "print(frase.split())"
      ],
      "metadata": {
        "colab": {
          "base_uri": "https://localhost:8080/"
        },
        "id": "-zNDTOmOz9BR",
        "outputId": "68ade8fa-9e62-42c6-c8fc-501018c23891"
      },
      "execution_count": null,
      "outputs": [
        {
          "output_type": "stream",
          "name": "stdout",
          "text": [
            "['Meu', 'nome', 'é', 'Vinicius.', 'Eu', 'estou', 'estudando', 'a', 'linguagem', 'Python!']\n"
          ]
        }
      ]
    },
    {
      "cell_type": "code",
      "source": [
        "print(frase.split('.'))"
      ],
      "metadata": {
        "colab": {
          "base_uri": "https://localhost:8080/"
        },
        "id": "DRAKez2a0XpQ",
        "outputId": "a76c532b-f70f-43a6-902f-d5f6922c9e33"
      },
      "execution_count": null,
      "outputs": [
        {
          "output_type": "stream",
          "name": "stdout",
          "text": [
            "['Meu nome é Vinicius', ' Eu estou estudando a linguagem Python!']\n"
          ]
        }
      ]
    },
    {
      "cell_type": "code",
      "source": [
        "type('Meu nome é Vinicius. Eu estou estudando a linguagem Python!'.split())"
      ],
      "metadata": {
        "colab": {
          "base_uri": "https://localhost:8080/"
        },
        "id": "lm9Pc9co0pQI",
        "outputId": "26a7f59d-d524-4b64-9632-5296d49ebe45"
      },
      "execution_count": null,
      "outputs": [
        {
          "output_type": "execute_result",
          "data": {
            "text/plain": [
              "list"
            ]
          },
          "metadata": {},
          "execution_count": 25
        }
      ]
    },
    {
      "cell_type": "markdown",
      "source": [
        "## strip()\n",
        "\n",
        "Remove espaços em branco do início e do fim de uma string."
      ],
      "metadata": {
        "id": "lv-2J35fw8Gh"
      }
    },
    {
      "cell_type": "code",
      "source": [
        "frase = '     Meu nome é Vinicius    '"
      ],
      "metadata": {
        "id": "9hygiujRx09Y"
      },
      "execution_count": null,
      "outputs": []
    },
    {
      "cell_type": "code",
      "source": [
        "print(frase.strip())"
      ],
      "metadata": {
        "colab": {
          "base_uri": "https://localhost:8080/"
        },
        "id": "qMTrDJbC0_Hw",
        "outputId": "3a72f887-24d8-4316-f2c5-2252018eb59d"
      },
      "execution_count": null,
      "outputs": [
        {
          "output_type": "stream",
          "name": "stdout",
          "text": [
            "Meu nome é Vinicius\n"
          ]
        }
      ]
    },
    {
      "cell_type": "code",
      "source": [
        "'Vinicius' == 'Vinicius '.strip()"
      ],
      "metadata": {
        "colab": {
          "base_uri": "https://localhost:8080/"
        },
        "id": "XCL9JBLC1Lns",
        "outputId": "f798452e-cc16-4adc-ee9f-4807a1bf1861"
      },
      "execution_count": null,
      "outputs": [
        {
          "output_type": "execute_result",
          "data": {
            "text/plain": [
              "True"
            ]
          },
          "metadata": {},
          "execution_count": 31
        }
      ]
    },
    {
      "cell_type": "markdown",
      "source": [
        "## capitalize()\n",
        "\n",
        "Retorna uma string com a primeira letra maiúscula e todas as demais minúsculas."
      ],
      "metadata": {
        "id": "3Q8B9hJTx928"
      }
    },
    {
      "cell_type": "code",
      "source": [
        "frase = 'Meu nome é Vinicius e eu gosto muito de estudar Python.'"
      ],
      "metadata": {
        "id": "DS6NiQBtyKpa"
      },
      "execution_count": null,
      "outputs": []
    },
    {
      "cell_type": "code",
      "source": [
        "print(frase.capitalize() )"
      ],
      "metadata": {
        "colab": {
          "base_uri": "https://localhost:8080/"
        },
        "id": "SZ0kgNJD1fRq",
        "outputId": "2e07f6de-8771-41f7-876d-c13b4b88fcdc"
      },
      "execution_count": null,
      "outputs": [
        {
          "output_type": "stream",
          "name": "stdout",
          "text": [
            "Meu nome é vinicius e eu gosto muito de estudar python.\n"
          ]
        }
      ]
    },
    {
      "cell_type": "markdown",
      "source": [
        "## lower()\n",
        "\n",
        "Retorna uma string com todas as letras minúsculas."
      ],
      "metadata": {
        "id": "KBCr3gOByLGV"
      }
    },
    {
      "cell_type": "code",
      "source": [
        "frase = 'Meu nome é Vinicius e eu gosto muito de estudar Python.'"
      ],
      "metadata": {
        "id": "dVFK7aPLyWEh"
      },
      "execution_count": null,
      "outputs": []
    },
    {
      "cell_type": "code",
      "source": [
        "print( frase.lower()   )\n",
        "print(frase)"
      ],
      "metadata": {
        "colab": {
          "base_uri": "https://localhost:8080/"
        },
        "id": "v8iWNAw715LU",
        "outputId": "062a1c4f-8b1f-4b25-aa7e-84e1470c4865"
      },
      "execution_count": null,
      "outputs": [
        {
          "output_type": "stream",
          "name": "stdout",
          "text": [
            "meu nome é vinicius e eu gosto muito de estudar python.\n",
            "Meu nome é Vinicius e eu gosto muito de estudar Python.\n"
          ]
        }
      ]
    },
    {
      "cell_type": "code",
      "source": [
        "frase = frase.lower()"
      ],
      "metadata": {
        "id": "mi9N9r-G2K7l"
      },
      "execution_count": null,
      "outputs": []
    },
    {
      "cell_type": "code",
      "source": [
        "print(frase)"
      ],
      "metadata": {
        "colab": {
          "base_uri": "https://localhost:8080/"
        },
        "id": "wd0WvuSk2OvW",
        "outputId": "972fb702-a9dc-47df-9177-dc94f6d027da"
      },
      "execution_count": null,
      "outputs": [
        {
          "output_type": "stream",
          "name": "stdout",
          "text": [
            "meu nome é vinicius e eu gosto muito de estudar python.\n"
          ]
        }
      ]
    },
    {
      "cell_type": "markdown",
      "source": [
        "## upper()\n",
        "\n",
        "Retorna uma string com todas as letras maiúsculas."
      ],
      "metadata": {
        "id": "Clc8urMdyWZd"
      }
    },
    {
      "cell_type": "code",
      "source": [
        "frase = 'Meu nome é Vinicius e eu gosto muito de estudar Python.'"
      ],
      "metadata": {
        "id": "cFMKyIvnydfA"
      },
      "execution_count": null,
      "outputs": []
    },
    {
      "cell_type": "code",
      "source": [
        "print(frase.upper())"
      ],
      "metadata": {
        "colab": {
          "base_uri": "https://localhost:8080/"
        },
        "id": "CqAwMvxr2W78",
        "outputId": "f9c42248-b57a-4f51-e543-048b93e2401e"
      },
      "execution_count": null,
      "outputs": [
        {
          "output_type": "stream",
          "name": "stdout",
          "text": [
            "MEU NOME É VINICIUS E EU GOSTO MUITO DE ESTUDAR PYTHON.\n"
          ]
        }
      ]
    },
    {
      "cell_type": "markdown",
      "source": [
        "## title()\n",
        "\n",
        "Retorna uma string onde a primeira letra de cada palavra será maiúscula."
      ],
      "metadata": {
        "id": "TcRF6Rt1yeBL"
      }
    },
    {
      "cell_type": "code",
      "source": [
        "frase = 'Meu nome é Vinicius e eu gosto muito de estudar Python.'"
      ],
      "metadata": {
        "id": "i1ndfnO7yoa2"
      },
      "execution_count": null,
      "outputs": []
    },
    {
      "cell_type": "code",
      "source": [
        "print(frase.title())"
      ],
      "metadata": {
        "colab": {
          "base_uri": "https://localhost:8080/"
        },
        "id": "aXzr_5xZ2hX8",
        "outputId": "5c4617ca-1645-45bc-8b01-135cf8946241"
      },
      "execution_count": null,
      "outputs": [
        {
          "output_type": "stream",
          "name": "stdout",
          "text": [
            "Meu Nome É Vinicius E Eu Gosto Muito De Estudar Python.\n"
          ]
        }
      ]
    },
    {
      "cell_type": "code",
      "source": [],
      "metadata": {
        "id": "pM8ASlSj2jUt"
      },
      "execution_count": null,
      "outputs": []
    }
  ]
}