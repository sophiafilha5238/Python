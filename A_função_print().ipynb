{
  "nbformat": 4,
  "nbformat_minor": 0,
  "metadata": {
    "colab": {
      "provenance": [],
      "include_colab_link": true
    },
    "kernelspec": {
      "name": "python3",
      "display_name": "Python 3"
    },
    "language_info": {
      "name": "python"
    }
  },
  "cells": [
    {
      "cell_type": "markdown",
      "metadata": {
        "id": "view-in-github",
        "colab_type": "text"
      },
      "source": [
        "<a href=\"https://colab.research.google.com/github/sophiafilha5238/Python/blob/main/A_fun%C3%A7%C3%A3o_print().ipynb\" target=\"_parent\"><img src=\"https://colab.research.google.com/assets/colab-badge.svg\" alt=\"Open In Colab\"/></a>"
      ]
    },
    {
      "cell_type": "markdown",
      "source": [
        "# Função print()\n",
        "\n",
        "A função print() é uma das funções mais importantes e usadas na linguagem Python. Sua função é, basicamente, exibir mensagens na tela ou enviá-las para outro dispositivo, como imprimir dentro de arquivos de texto.\n",
        "\n",
        "No Python 3, print() é uma função interna, de modo que não é necessário importar nenhuma biblioteca para poder utilizá-la. Basta chamá-la e passar os argumentos necessários.\n",
        "\n",
        "\n"
      ],
      "metadata": {
        "id": "gaXxWabJ0PEr"
      }
    },
    {
      "cell_type": "code",
      "source": [
        "print('Meu primeiro print!')"
      ],
      "metadata": {
        "colab": {
          "base_uri": "https://localhost:8080/"
        },
        "id": "KRvytZQp3f8o",
        "outputId": "c21f6191-270c-4508-c9c1-01864c8ded51"
      },
      "execution_count": null,
      "outputs": [
        {
          "output_type": "stream",
          "name": "stdout",
          "text": [
            "Meu primeiro print!\n"
          ]
        }
      ]
    },
    {
      "cell_type": "code",
      "source": [
        "print(\"Meu primeiro print!\")"
      ],
      "metadata": {
        "colab": {
          "base_uri": "https://localhost:8080/"
        },
        "id": "E1di13PT4tWD",
        "outputId": "6345c19e-7fe4-419a-82ed-98f82d7ee100"
      },
      "execution_count": null,
      "outputs": [
        {
          "output_type": "stream",
          "name": "stdout",
          "text": [
            "Meu primeiro print!\n"
          ]
        }
      ]
    },
    {
      "cell_type": "code",
      "source": [
        "print(\"D'água\")"
      ],
      "metadata": {
        "colab": {
          "base_uri": "https://localhost:8080/"
        },
        "id": "P2bZjwYk409x",
        "outputId": "74acd460-492f-48fa-b9f6-9d325e126edc"
      },
      "execution_count": null,
      "outputs": [
        {
          "output_type": "stream",
          "name": "stdout",
          "text": [
            "D'água\n"
          ]
        }
      ]
    },
    {
      "cell_type": "code",
      "source": [
        "print('D'água')"
      ],
      "metadata": {
        "colab": {
          "base_uri": "https://localhost:8080/",
          "height": 134
        },
        "id": "IEGFswcO47_z",
        "outputId": "16f6e4da-7eb6-4cb3-c6b2-5c16664cf345"
      },
      "execution_count": null,
      "outputs": [
        {
          "output_type": "error",
          "ename": "SyntaxError",
          "evalue": "ignored",
          "traceback": [
            "\u001b[0;36m  File \u001b[0;32m\"<ipython-input-7-7a0cfaa784c0>\"\u001b[0;36m, line \u001b[0;32m1\u001b[0m\n\u001b[0;31m    print('D'água')\u001b[0m\n\u001b[0m                ^\u001b[0m\n\u001b[0;31mSyntaxError\u001b[0m\u001b[0;31m:\u001b[0m invalid syntax\n"
          ]
        }
      ]
    },
    {
      "cell_type": "code",
      "source": [
        "print(20 * 50)\n",
        "print(125 * 4)"
      ],
      "metadata": {
        "colab": {
          "base_uri": "https://localhost:8080/"
        },
        "id": "VBpb-Fqj6Gn9",
        "outputId": "a5de69cd-3a5f-4756-fb03-b7d1547fbb68"
      },
      "execution_count": null,
      "outputs": [
        {
          "output_type": "stream",
          "name": "stdout",
          "text": [
            "1000\n",
            "500\n"
          ]
        }
      ]
    },
    {
      "cell_type": "code",
      "source": [
        "print(12345)"
      ],
      "metadata": {
        "colab": {
          "base_uri": "https://localhost:8080/"
        },
        "id": "9cc3P9hV6rZI",
        "outputId": "7954ccfe-cc08-4bac-933b-61174ee54fb6"
      },
      "execution_count": null,
      "outputs": [
        {
          "output_type": "stream",
          "name": "stdout",
          "text": [
            "12345\n"
          ]
        }
      ]
    },
    {
      "cell_type": "code",
      "source": [
        "nome = 'Vinicius'"
      ],
      "metadata": {
        "id": "VFxB-DAB7Bhu"
      },
      "execution_count": null,
      "outputs": []
    },
    {
      "cell_type": "code",
      "source": [
        "print(nome)"
      ],
      "metadata": {
        "colab": {
          "base_uri": "https://localhost:8080/"
        },
        "id": "tKjr6rsF7MMD",
        "outputId": "ac722100-d8da-4058-db9b-d5e479dfda7a"
      },
      "execution_count": null,
      "outputs": [
        {
          "output_type": "stream",
          "name": "stdout",
          "text": [
            "Vinicius\n"
          ]
        }
      ]
    },
    {
      "cell_type": "code",
      "source": [
        "print('Vinicius', 10000, 'Python', 12 * 56)"
      ],
      "metadata": {
        "colab": {
          "base_uri": "https://localhost:8080/"
        },
        "id": "aYg25bWw7OAX",
        "outputId": "a80407e9-ca39-4cee-c896-74cd666573a2"
      },
      "execution_count": null,
      "outputs": [
        {
          "output_type": "stream",
          "name": "stdout",
          "text": [
            "Vinicius 10000 Python 672\n"
          ]
        }
      ]
    },
    {
      "cell_type": "code",
      "source": [],
      "metadata": {
        "id": "NZzyivZ67Ylk"
      },
      "execution_count": null,
      "outputs": []
    }
  ]
}