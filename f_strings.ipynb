{
  "nbformat": 4,
  "nbformat_minor": 0,
  "metadata": {
    "colab": {
      "provenance": [],
      "include_colab_link": true
    },
    "kernelspec": {
      "name": "python3",
      "display_name": "Python 3"
    },
    "language_info": {
      "name": "python"
    }
  },
  "cells": [
    {
      "cell_type": "markdown",
      "metadata": {
        "id": "view-in-github",
        "colab_type": "text"
      },
      "source": [
        "<a href=\"https://colab.research.google.com/github/sophiafilha5238/Python/blob/main/f_strings.ipynb\" target=\"_parent\"><img src=\"https://colab.research.google.com/assets/colab-badge.svg\" alt=\"Open In Colab\"/></a>"
      ]
    },
    {
      "cell_type": "markdown",
      "source": [
        "# f-strings\n",
        "\n",
        "Também chamadas de **strings literais formatadas** *(formatted string literals)*, f-strings são strings com a letra f no início e chaves {} para realizar a interpolação de variáveis ou expressões."
      ],
      "metadata": {
        "id": "HVdxVCxDq3Sd"
      }
    },
    {
      "cell_type": "code",
      "source": [
        "idade = 40"
      ],
      "metadata": {
        "id": "YJ6Wj0DCragk"
      },
      "execution_count": null,
      "outputs": []
    },
    {
      "cell_type": "code",
      "source": [
        "print(idade)"
      ],
      "metadata": {
        "colab": {
          "base_uri": "https://localhost:8080/"
        },
        "id": "5s3acSUirrBd",
        "outputId": "2972d117-ebf1-4545-e47e-cc5ec7b10122"
      },
      "execution_count": null,
      "outputs": [
        {
          "output_type": "stream",
          "name": "stdout",
          "text": [
            "40\n"
          ]
        }
      ]
    },
    {
      "cell_type": "code",
      "source": [
        "print(f'Meu nome é Vinicius e eu tenho {idade} anos')"
      ],
      "metadata": {
        "colab": {
          "base_uri": "https://localhost:8080/"
        },
        "id": "036s5LPorsKd",
        "outputId": "cc22211c-3f12-4fca-a3b8-d81f80840097"
      },
      "execution_count": null,
      "outputs": [
        {
          "output_type": "stream",
          "name": "stdout",
          "text": [
            "Meu nome é Vinicius e eu tenho 40 anos\n"
          ]
        }
      ]
    },
    {
      "cell_type": "code",
      "source": [
        "idade = 42"
      ],
      "metadata": {
        "id": "--uefl9Zry4H"
      },
      "execution_count": null,
      "outputs": []
    },
    {
      "cell_type": "code",
      "source": [
        "print(f'Meu nome é Vinicius e eu tenho {idade} anos')"
      ],
      "metadata": {
        "colab": {
          "base_uri": "https://localhost:8080/"
        },
        "id": "HEVNrQjzsOg-",
        "outputId": "98958364-ba73-49e6-b221-89e5830b1adf"
      },
      "execution_count": null,
      "outputs": [
        {
          "output_type": "stream",
          "name": "stdout",
          "text": [
            "Meu nome é Vinicius e eu tenho 42 anos\n"
          ]
        }
      ]
    },
    {
      "cell_type": "code",
      "source": [
        "print(f'Meu nome é Vinicius e eu tenho {40 + 7} anos')"
      ],
      "metadata": {
        "colab": {
          "base_uri": "https://localhost:8080/"
        },
        "id": "8qMhtn6jsPQW",
        "outputId": "4416eb44-2f1a-41d5-c8c9-2c2e28a314db"
      },
      "execution_count": null,
      "outputs": [
        {
          "output_type": "stream",
          "name": "stdout",
          "text": [
            "Meu nome é Vinicius e eu tenho 47 anos\n"
          ]
        }
      ]
    },
    {
      "cell_type": "code",
      "source": [
        "linguagem = 'Python'"
      ],
      "metadata": {
        "id": "L6tBbk1AsYTN"
      },
      "execution_count": null,
      "outputs": []
    },
    {
      "cell_type": "code",
      "source": [
        "print(f'Eu estou aprendendo a programar em {linguagem}!')"
      ],
      "metadata": {
        "colab": {
          "base_uri": "https://localhost:8080/"
        },
        "id": "p1BSFGXJsc2_",
        "outputId": "9b660dc1-2ec5-4552-c275-bc0eb013b704"
      },
      "execution_count": null,
      "outputs": [
        {
          "output_type": "stream",
          "name": "stdout",
          "text": [
            "Eu estou aprendendo a programar em Python!\n"
          ]
        }
      ]
    },
    {
      "cell_type": "code",
      "source": [
        "linguagem = 'C#'"
      ],
      "metadata": {
        "id": "fIjDiy7askLT"
      },
      "execution_count": null,
      "outputs": []
    },
    {
      "cell_type": "code",
      "source": [
        "print(f'Eu estou aprendendo a programar em {linguagem}!')"
      ],
      "metadata": {
        "colab": {
          "base_uri": "https://localhost:8080/"
        },
        "id": "XZPRbsS-stXd",
        "outputId": "10e1d2f5-0312-4ad6-ba01-f9e6f18ef925"
      },
      "execution_count": null,
      "outputs": [
        {
          "output_type": "stream",
          "name": "stdout",
          "text": [
            "Eu estou aprendendo a programar em C#!\n"
          ]
        }
      ]
    },
    {
      "cell_type": "code",
      "source": [],
      "metadata": {
        "id": "ZQuu8roQsyK0"
      },
      "execution_count": null,
      "outputs": []
    }
  ]
}